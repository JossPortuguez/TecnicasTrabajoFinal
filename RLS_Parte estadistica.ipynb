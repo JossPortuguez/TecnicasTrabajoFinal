{
 "cells": [
  {
   "cell_type": "code",
   "execution_count": 1,
   "id": "ef4cde5a",
   "metadata": {},
   "outputs": [],
   "source": [
    "import numpy as np\n",
    "import pandas as pd\n",
    "import matplotlib.pyplot as plt\n",
    "import statsmodels.api as sm\n",
    "import statsmodels.formula.api as smf\n",
    "import seaborn as sns"
   ]
  },
  {
   "cell_type": "code",
   "execution_count": 2,
   "id": "17fc79e7",
   "metadata": {},
   "outputs": [
    {
     "name": "stdout",
     "output_type": "stream",
     "text": [
      "          Year          PP      T_max     T_min     T_prom       HR       v  \\\n",
      "0   1981-01-01  100.222280  18.246254  8.077462  13.161858  71.7284  2.7560   \n",
      "1   1981-02-01  139.014821  18.585873  9.607421  14.096647  76.0896  2.6840   \n",
      "2   1981-03-01  105.125833  18.849869  8.865782  13.857825  72.0932  2.4544   \n",
      "3   1981-04-01   22.465072  18.542460  7.463444  13.002952  63.8000  2.7388   \n",
      "4   1981-05-01    1.121600  18.247512  5.325515  11.786513  62.0504  2.5888   \n",
      "..         ...         ...        ...       ...        ...      ...     ...   \n",
      "427 2016-08-01    1.119447  19.262494  5.013405  12.137950  56.4896  3.0320   \n",
      "428 2016-09-01    5.032873  20.311060  5.784997  13.048029  55.7800  3.1284   \n",
      "429 2016-10-01   10.038845  20.428524  6.633688  13.531106  56.6404  2.8856   \n",
      "430 2016-11-01    5.035502  21.039605  5.941671  13.490638  53.3416  2.9188   \n",
      "431 2016-12-01   49.929394  19.486238  8.081207  13.783722  68.4384  2.5428   \n",
      "\n",
      "        PP_pred  \n",
      "0     81.953868  \n",
      "1    106.847680  \n",
      "2     84.840664  \n",
      "3     54.945294  \n",
      "4     24.634975  \n",
      "..          ...  \n",
      "427   -3.173555  \n",
      "428   -7.936399  \n",
      "429    3.757301  \n",
      "430  -20.730043  \n",
      "431   58.136900  \n",
      "\n",
      "[432 rows x 8 columns]\n"
     ]
    }
   ],
   "source": [
    "dataset = pd.ExcelFile('D:\\Joss\\Ciclo_5\\Tecnicas_Programacion\\Trabajofinal\\data_can1.xls')\n",
    "dataset = pd.read_excel(dataset,'Paper1')\n",
    "print(dataset)"
   ]
  },
  {
   "cell_type": "code",
   "execution_count": 3,
   "id": "cd858035",
   "metadata": {},
   "outputs": [
    {
     "name": "stdout",
     "output_type": "stream",
     "text": [
      "                            OLS Regression Results                            \n",
      "==============================================================================\n",
      "Dep. Variable:                     PP   R-squared:                       0.460\n",
      "Model:                            OLS   Adj. R-squared:                  0.459\n",
      "Method:                 Least Squares   F-statistic:                     366.0\n",
      "Date:                Sun, 06 Mar 2022   Prob (F-statistic):           1.79e-59\n",
      "Time:                        20:28:32   Log-Likelihood:                -2078.4\n",
      "No. Observations:                 432   AIC:                             4161.\n",
      "Df Residuals:                     430   BIC:                             4169.\n",
      "Df Model:                           1                                         \n",
      "Covariance Type:            nonrobust                                         \n",
      "==============================================================================\n",
      "                 coef    std err          t      P>|t|      [0.025      0.975]\n",
      "------------------------------------------------------------------------------\n",
      "const       -246.9452     14.928    -16.542      0.000    -276.287    -217.604\n",
      "T_prom        22.2072      1.161     19.131      0.000      19.926      24.489\n",
      "==============================================================================\n",
      "Omnibus:                       65.089   Durbin-Watson:                   1.016\n",
      "Prob(Omnibus):                  0.000   Jarque-Bera (JB):               96.465\n",
      "Skew:                           0.981   Prob(JB):                     1.13e-21\n",
      "Kurtosis:                       4.229   Cond. No.                         135.\n",
      "==============================================================================\n",
      "\n",
      "Notes:\n",
      "[1] Standard Errors assume that the covariance matrix of the errors is correctly specified.\n"
     ]
    }
   ],
   "source": [
    "#Definiendo Variables (Predictor y Objetivo)\n",
    "y = dataset['PP'] #Variable Objetivo 'target'\n",
    "X = dataset['T_prom'] #Variable predictor\n",
    "\n",
    "#Definiendo Variable (Constante)\n",
    "X = sm.add_constant(X)\n",
    "\n",
    "#Modelo de regresion con statsmodels.api\n",
    "linear_regression = sm.OLS(y,X)\n",
    "fitted_model = linear_regression.fit()\n",
    "\n",
    "#Resumen de los resultados \n",
    "print(fitted_model.summary())"
   ]
  },
  {
   "cell_type": "code",
   "execution_count": null,
   "id": "42e3d724",
   "metadata": {},
   "outputs": [],
   "source": []
  }
 ],
 "metadata": {
  "kernelspec": {
   "display_name": "Python 3",
   "language": "python",
   "name": "python3"
  },
  "language_info": {
   "codemirror_mode": {
    "name": "ipython",
    "version": 3
   },
   "file_extension": ".py",
   "mimetype": "text/x-python",
   "name": "python",
   "nbconvert_exporter": "python",
   "pygments_lexer": "ipython3",
   "version": "3.7.0"
  }
 },
 "nbformat": 4,
 "nbformat_minor": 5
}
