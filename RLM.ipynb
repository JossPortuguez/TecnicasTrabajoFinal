{
 "cells": [
  {
   "cell_type": "code",
   "execution_count": 2,
   "id": "83e75624",
   "metadata": {},
   "outputs": [],
   "source": [
    "import numpy as np\n",
    "import pandas as pd\n",
    "import matplotlib.pyplot as plt\n",
    "import statsmodels.api as sm\n",
    "import statsmodels.formula.api as smf\n",
    "import seaborn as sns"
   ]
  },
  {
   "cell_type": "code",
   "execution_count": 6,
   "id": "3f3de1b1",
   "metadata": {},
   "outputs": [
    {
     "name": "stdout",
     "output_type": "stream",
     "text": [
      "          Year          PP      T_max     T_min     T_prom       HR       v\n",
      "0   1981-01-01  100.222280  18.246254  8.077462  13.161858  71.7284  2.7560\n",
      "1   1981-02-01  139.014821  18.585873  9.607421  14.096647  76.0896  2.6840\n",
      "2   1981-03-01  105.125833  18.849869  8.865782  13.857825  72.0932  2.4544\n",
      "3   1981-04-01   22.465072  18.542460  7.463444  13.002952  63.8000  2.7388\n",
      "4   1981-05-01    1.121600  18.247512  5.325515  11.786513  62.0504  2.5888\n",
      "..         ...         ...        ...       ...        ...      ...     ...\n",
      "427 2016-08-01    1.119447  19.262494  5.013405  12.137950  56.4896  3.0320\n",
      "428 2016-09-01    5.032873  20.311060  5.784997  13.048029  55.7800  3.1284\n",
      "429 2016-10-01   10.038845  20.428524  6.633688  13.531106  56.6404  2.8856\n",
      "430 2016-11-01    5.035502  21.039605  5.941671  13.490638  53.3416  2.9188\n",
      "431 2016-12-01   49.929394  19.486238  8.081207  13.783722  68.4384  2.5428\n",
      "\n",
      "[432 rows x 7 columns]\n"
     ]
    }
   ],
   "source": [
    "dataset = pd.ExcelFile('D:\\Joss\\Ciclo_5\\Tecnicas_Programacion\\Trabajofinal\\data_can1.xls')\n",
    "dataset = pd.read_excel(dataset,'Paper1')\n",
    "print(dataset)"
   ]
  },
  {
   "cell_type": "code",
   "execution_count": 7,
   "id": "85baf5d4",
   "metadata": {},
   "outputs": [
    {
     "name": "stdout",
     "output_type": "stream",
     "text": [
      "                            OLS Regression Results                            \n",
      "==============================================================================\n",
      "Dep. Variable:                      y   R-squared:                       0.803\n",
      "Model:                            OLS   Adj. R-squared:                  0.802\n",
      "Method:                 Least Squares   F-statistic:                     583.0\n",
      "Date:                Sun, 06 Mar 2022   Prob (F-statistic):          9.95e-151\n",
      "Time:                        20:47:42   Log-Likelihood:                -1860.1\n",
      "No. Observations:                 432   AIC:                             3728.\n",
      "Df Residuals:                     428   BIC:                             3744.\n",
      "Df Model:                           3                                         \n",
      "Covariance Type:            nonrobust                                         \n",
      "==============================================================================\n",
      "                 coef    std err          t      P>|t|      [0.025      0.975]\n",
      "------------------------------------------------------------------------------\n",
      "const        100.9315     41.278      2.445      0.015      19.800     182.063\n",
      "T_min         28.7167      2.750     10.441      0.000      23.311      34.123\n",
      "T_prom       -28.3751      3.277     -8.660      0.000     -34.815     -21.935\n",
      "HR             1.7057      0.348      4.896      0.000       1.021       2.391\n",
      "==============================================================================\n",
      "Omnibus:                        4.523   Durbin-Watson:                   1.669\n",
      "Prob(Omnibus):                  0.104   Jarque-Bera (JB):                4.398\n",
      "Skew:                           0.193   Prob(JB):                        0.111\n",
      "Kurtosis:                       3.309   Cond. No.                     3.13e+03\n",
      "==============================================================================\n",
      "\n",
      "Notes:\n",
      "[1] Standard Errors assume that the covariance matrix of the errors is correctly specified.\n",
      "[2] The condition number is large, 3.13e+03. This might indicate that there are\n",
      "strong multicollinearity or other numerical problems.\n"
     ]
    }
   ],
   "source": [
    "variables = dataset.columns[1:-1]\n",
    "X = dataset.iloc[:,3:-1]\n",
    "y = dataset['PP'].values\n",
    "\n",
    "Xc = sm.add_constant(X)\n",
    "linear_regression = sm.OLS(y,Xc)\n",
    "fitted_model = linear_regression.fit()\n",
    "print(fitted_model.summary())"
   ]
  },
  {
   "cell_type": "code",
   "execution_count": null,
   "id": "395a7a0f",
   "metadata": {},
   "outputs": [],
   "source": []
  }
 ],
 "metadata": {
  "kernelspec": {
   "display_name": "Python 3",
   "language": "python",
   "name": "python3"
  },
  "language_info": {
   "codemirror_mode": {
    "name": "ipython",
    "version": 3
   },
   "file_extension": ".py",
   "mimetype": "text/x-python",
   "name": "python",
   "nbconvert_exporter": "python",
   "pygments_lexer": "ipython3",
   "version": "3.7.0"
  }
 },
 "nbformat": 4,
 "nbformat_minor": 5
}
